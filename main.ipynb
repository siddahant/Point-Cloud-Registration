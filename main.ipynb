{
 "cells": [
  {
   "cell_type": "code",
   "execution_count": 40,
   "id": "c90b8262",
   "metadata": {},
   "outputs": [],
   "source": [
    "import numpy as np\n",
    "from pypointmatcher import pointmatcher as pm, pointmatchersupport as pms"
   ]
  },
  {
   "cell_type": "code",
   "execution_count": 41,
   "id": "6601ba52",
   "metadata": {},
   "outputs": [],
   "source": [
    "def parse_translation(p_translation: str, p_cloud_dim: int):\n",
    "    parsed_translation = np.identity(p_cloud_dim + 1)\n",
    "\n",
    "    p_translation = p_translation.replace(',', ' ')\n",
    "\n",
    "    translation_values = np.fromiter(p_translation.split(' '), np.float)\n",
    "\n",
    "    for i, v in enumerate(translation_values):\n",
    "        parsed_translation[i, p_cloud_dim] = v\n",
    "\n",
    "    return parsed_translation"
   ]
  },
  {
   "cell_type": "code",
   "execution_count": 42,
   "id": "bc43af96",
   "metadata": {},
   "outputs": [],
   "source": [
    "def parse_rotation(p_rotation: str, p_cloud_dim: int):\n",
    "    parsed_rotation = np.identity(p_cloud_dim + 1)\n",
    "\n",
    "    p_rotation = p_rotation.replace(',', ' ')\n",
    "    p_rotation = p_rotation.replace(';', ' ')\n",
    "\n",
    "    rotation_matrix = np.fromiter(p_rotation.split(' '), np.float)\n",
    "\n",
    "    for i, v in enumerate(rotation_matrix):\n",
    "        parsed_rotation[i // p_cloud_dim, i % p_cloud_dim] = v\n",
    "\n",
    "    return parsed_rotation"
   ]
  },
  {
   "cell_type": "code",
   "execution_count": 43,
   "id": "2197b411",
   "metadata": {},
   "outputs": [],
   "source": [
    "PM = pm.PointMatcher\n",
    "DP = PM.DataPoints\n",
    "Parameters = pms.Parametrizable.Parameters"
   ]
  },
  {
   "cell_type": "code",
   "execution_count": 44,
   "id": "531494e0",
   "metadata": {},
   "outputs": [],
   "source": [
    "output_base_directory = \"\"\n",
    "output_base_file = \"test\""
   ]
  },
  {
   "cell_type": "code",
   "execution_count": 45,
   "id": "084d0f07",
   "metadata": {},
   "outputs": [],
   "source": [
    "is_3D = True\n",
    "\n",
    "if is_3D:\n",
    "    # Load 3D point clouds\n",
    "    ref = DP(DP.load('../data/Hokuyo_0.csv'))\n",
    "    data = DP(DP.load('../data/Hokuyo_1.csv'))\n",
    "    test_base = \"3D\"\n",
    "else:\n",
    "    # Load 2D point clouds\n",
    "    ref = DP(DP.load('../data/2D_twoBoxes.csv'))\n",
    "    data = DP(DP.load('../data/2D_oneBox.csv'))\n",
    "    test_base = \"2D\""
   ]
  },
  {
   "cell_type": "code",
   "execution_count": 46,
   "id": "c4bfad8a",
   "metadata": {},
   "outputs": [],
   "source": [
    "icp = PM.ICP()\n",
    "params = Parameters()"
   ]
  },
  {
   "cell_type": "code",
   "execution_count": 47,
   "id": "e69e2863",
   "metadata": {},
   "outputs": [],
   "source": [
    "pms.setLogger(PM.get().LoggerRegistrar.create(\"FileLogger\"))"
   ]
  },
  {
   "cell_type": "code",
   "execution_count": 48,
   "id": "bed53332",
   "metadata": {},
   "outputs": [],
   "source": [
    "# Prepare reading filters\n",
    "name = \"MinDistDataPointsFilter\"\n",
    "params[\"minDist\"] = \"1.0\"\n",
    "minDist_read = PM.get().DataPointsFilterRegistrar.create(name, params)\n",
    "params.clear()\n",
    "\n",
    "name = \"RandomSamplingDataPointsFilter\"\n",
    "params[\"prob\"] = \"0.5\"\n",
    "rand_read = PM.get().DataPointsFilterRegistrar.create(name, params)\n",
    "params.clear()"
   ]
  },
  {
   "cell_type": "code",
   "execution_count": 49,
   "id": "5a549efb",
   "metadata": {},
   "outputs": [],
   "source": [
    "# Prepare reference filters\n",
    "name = \"MinDistDataPointsFilter\"\n",
    "params[\"minDist\"] = \"1.0\"\n",
    "minDist_ref = PM.get().DataPointsFilterRegistrar.create(name, params)\n",
    "params.clear()\n",
    "\n",
    "name = \"RandomSamplingDataPointsFilter\"\n",
    "params[\"prob\"] = \"0.5\"\n",
    "rand_ref = PM.get().DataPointsFilterRegistrar.create(name, params)\n",
    "params.clear()"
   ]
  },
  {
   "cell_type": "code",
   "execution_count": 50,
   "id": "c6357cb5",
   "metadata": {},
   "outputs": [],
   "source": [
    "# Prepare matching function\n",
    "name = \"KDTreeMatcher\"\n",
    "params[\"knn\"] = \"1\"\n",
    "params[\"epsilon\"] = \"3.16\"\n",
    "kdtree = PM.get().MatcherRegistrar.create(name, params)\n",
    "params.clear()"
   ]
  },
  {
   "cell_type": "code",
   "execution_count": 51,
   "id": "f2eb3260",
   "metadata": {},
   "outputs": [],
   "source": [
    "# Prepare outlier filters\n",
    "name = \"TrimmedDistOutlierFilter\"\n",
    "params[\"ratio\"] = \"0.75\"\n",
    "trim = PM.get().OutlierFilterRegistrar.create(name, params)\n",
    "params.clear()"
   ]
  },
  {
   "cell_type": "code",
   "execution_count": 52,
   "id": "392675ce",
   "metadata": {},
   "outputs": [],
   "source": [
    "# Prepare error minimization\n",
    "name = \"PointToPointErrorMinimizer\"\n",
    "pointToPoint = PM.get().ErrorMinimizerRegistrar.create(name)\n",
    "params.clear()\n"
   ]
  },
  {
   "cell_type": "code",
   "execution_count": 53,
   "id": "50c443c6",
   "metadata": {},
   "outputs": [],
   "source": [
    "# Prepare transformation checker filters\n",
    "name = \"CounterTransformationChecker\"\n",
    "params[\"maxIterationCount\"] = \"40\"\n",
    "maxIter = PM.get().TransformationCheckerRegistrar.create(name, params)\n",
    "params.clear()\n",
    "\n",
    "name = \"DifferentialTransformationChecker\"\n",
    "params[\"minDiffRotErr\"] = \"0.001\"\n",
    "params[\"minDiffTransErr\"] = \"0.01\"\n",
    "params[\"smoothLength\"] = \"4\"\n",
    "diff = PM.get().TransformationCheckerRegistrar.create(name, params)\n",
    "params.clear()"
   ]
  },
  {
   "cell_type": "code",
   "execution_count": 54,
   "id": "1b243cbe",
   "metadata": {},
   "outputs": [],
   "source": [
    "# Prepare inspector\n",
    "# Comment out to write vtk files per iteration\n",
    "name = \"VTKFileInspector\"\n",
    "params[\"dumpDataLinks\"] = \"1\"\n",
    "params[\"dumpReading\"] = \"1\"\n",
    "params[\"dumpReference\"] = \"1\"\n",
    "vtkInspect = PM.get().InspectorRegistrar.create(name, params)\n",
    "params.clear()"
   ]
  },
  {
   "cell_type": "code",
   "execution_count": 55,
   "id": "e24281d2",
   "metadata": {},
   "outputs": [],
   "source": [
    "# Prepare transformation\n",
    "name = \"RigidTransformation\"\n",
    "rigid_trans = PM.get().TransformationRegistrar.create(name)"
   ]
  },
  {
   "cell_type": "code",
   "execution_count": 56,
   "id": "85296a00",
   "metadata": {},
   "outputs": [],
   "source": [
    "# Build ICP solution\n",
    "icp.readingDataPointsFilters.append(minDist_read)\n",
    "icp.readingDataPointsFilters.append(rand_read)\n",
    "\n",
    "icp.referenceDataPointsFilters.append(minDist_ref)\n",
    "icp.referenceDataPointsFilters.append(rand_ref)\n",
    "\n",
    "icp.matcher = kdtree\n",
    "\n",
    "icp.outlierFilters.append(trim)\n",
    "\n",
    "icp.errorMinimizer = pointToPoint\n",
    "\n",
    "icp.transformationCheckers.append(maxIter)\n",
    "icp.transformationCheckers.append(diff)\n",
    "icp.inspector = vtkInspect\n",
    "icp.transformations.append(rigid_trans)"
   ]
  },
  {
   "cell_type": "code",
   "execution_count": 57,
   "id": "494148b2",
   "metadata": {},
   "outputs": [],
   "source": [
    "# Compute the transformation to express data in ref\n",
    "T = icp(data, ref)"
   ]
  },
  {
   "cell_type": "code",
   "execution_count": 58,
   "id": "144e3db0",
   "metadata": {},
   "outputs": [],
   "source": [
    "# Transform data to express it in ref\n",
    "data_out = DP(data)\n",
    "\n",
    "icp.transformations.apply(data_out, T)"
   ]
  },
  {
   "cell_type": "code",
   "execution_count": 59,
   "id": "23d2c256",
   "metadata": {},
   "outputs": [
    {
     "name": "stdout",
     "output_type": "stream",
     "text": [
      "3D ICP transformation:\n",
      "   0.99343145 -0.11436385 -0.00352762  0.592276   \n",
      "   0.11437842  0.99342835  0.00413194 -0.01413563 \n",
      "   0.00303251 -0.00450766  0.9999866   0.00341469 \n",
      "   0.          0.          0.          1.          \n"
     ]
    }
   ],
   "source": [
    "# Save files to see the results\n",
    "ref.save(f\"{output_base_directory + test_base}_{output_base_file}_ref.vtk\")\n",
    "data.save(f\"{output_base_directory + test_base}_{output_base_file}_data_in.vtk\")\n",
    "data_out.save(f\"{output_base_directory + test_base}_{output_base_file}_data_out.vtk\")\n",
    "\n",
    "print(f\"{test_base} ICP transformation:\\n{T}\".replace(\"[\", \" \").replace(\"]\", \" \"))"
   ]
  },
  {
   "cell_type": "code",
   "execution_count": null,
   "id": "bffd0d1c",
   "metadata": {},
   "outputs": [],
   "source": []
  },
  {
   "cell_type": "code",
   "execution_count": null,
   "id": "76e226e7",
   "metadata": {},
   "outputs": [],
   "source": []
  }
 ],
 "metadata": {
  "kernelspec": {
   "display_name": "Python 3",
   "language": "python",
   "name": "python3"
  },
  "language_info": {
   "codemirror_mode": {
    "name": "ipython",
    "version": 3
   },
   "file_extension": ".py",
   "mimetype": "text/x-python",
   "name": "python",
   "nbconvert_exporter": "python",
   "pygments_lexer": "ipython3",
   "version": "3.6.9"
  }
 },
 "nbformat": 4,
 "nbformat_minor": 5
}
